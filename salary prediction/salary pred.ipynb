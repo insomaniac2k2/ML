{
 "cells": [
  {
   "cell_type": "code",
   "execution_count": null,
   "id": "72af368a",
   "metadata": {},
   "outputs": [],
   "source": [
    "import pandas as pd"
   ]
  },
  {
   "cell_type": "code",
   "execution_count": null,
   "id": "8f51a6eb",
   "metadata": {},
   "outputs": [],
   "source": [
    "data = {'Knowledge': [50,60,50,40,70,75,65,70,65,70,75,80,80,75,80,75,85,85,85,90], \n",
    "        'Technical': [65,70,75,80,80,75,80,85,85,90,'',50,60,50,40,70,75,65,70,60],\n",
    "        'Logical': [80,85,85,75,70,75,65,70,85,90,85,80,50,60,50,40,65,70,75,80],\n",
    "        'Experience':[1,2,3,1,3,3,0,0,0,0,2,3,4,1,4,1,1.2,2.1,2.1,1.1],\n",
    "        'salary':['Rp 2500000','Rp 300000','Rp 200000','Rp 350000','Rp 3405000','Rp 505000','Rp 200000','Rp 350000','Rp 9500000','Rp 700000','Rp 600000','Rp 650000','Rp 2500000','Rp 300000','Rp 200000','Rp 350000','Rp 2500000','Rp 300000','Rp 200000','Rp 350000',]\n",
    "\n",
    "       }  \n",
    "  \n",
    "# Create DataFrame  \n",
    "df = pd.DataFrame(data)  "
   ]
  },
  {
   "cell_type": "code",
   "execution_count": null,
   "id": "37eb1277",
   "metadata": {},
   "outputs": [],
   "source": [
    "df"
   ]
  },
  {
   "cell_type": "code",
   "execution_count": null,
   "id": "1bc47ed9",
   "metadata": {},
   "outputs": [],
   "source": [
    "df = df.dropna()\n",
    "df.head()"
   ]
  },
  {
   "cell_type": "code",
   "execution_count": null,
   "id": "8763e173",
   "metadata": {},
   "outputs": [],
   "source": [
    "df.tail()"
   ]
  },
  {
   "cell_type": "code",
   "execution_count": null,
   "id": "16372a5a",
   "metadata": {},
   "outputs": [],
   "source": [
    "\n",
    "\n",
    "x = df.drop('salary', axis=1)\n",
    "y = df['salary']\n",
    "\n",
    "x.head()"
   ]
  },
  {
   "cell_type": "code",
   "execution_count": null,
   "id": "d35464ec",
   "metadata": {},
   "outputs": [],
   "source": [
    "y.head()"
   ]
  },
  {
   "cell_type": "code",
   "execution_count": null,
   "id": "62866a7d",
   "metadata": {},
   "outputs": [],
   "source": [
    "#pip install -U scikit-learn"
   ]
  },
  {
   "cell_type": "code",
   "execution_count": null,
   "id": "32f8693f",
   "metadata": {},
   "outputs": [],
   "source": [
    "from sklearn.model_selection import train_test_split\n"
   ]
  },
  {
   "cell_type": "code",
   "execution_count": null,
   "id": "62610f81",
   "metadata": {},
   "outputs": [],
   "source": [
    "x_train, x_test, y_train, y_test = train_test_split(x, y, test_size=0.2, random_state=42)\n"
   ]
  },
  {
   "cell_type": "code",
   "execution_count": null,
   "id": "aad9481e",
   "metadata": {},
   "outputs": [],
   "source": [
    "from sklearn.linear_model import LinearRegression\n",
    "\n",
    "linear = LinearRegression()\n",
    "linear.fit(x_train, y_train)"
   ]
  },
  {
   "cell_type": "code",
   "execution_count": null,
   "id": "c8178e66",
   "metadata": {},
   "outputs": [],
   "source": [
    "y_pred = linear.predict(x_test)\n",
    "y_pred"
   ]
  },
  {
   "cell_type": "code",
   "execution_count": null,
   "id": "fb5a3583",
   "metadata": {},
   "outputs": [],
   "source": [
    "linear.score(x_test, y_test)"
   ]
  },
  {
   "cell_type": "code",
   "execution_count": null,
   "id": "10b30959",
   "metadata": {},
   "outputs": [],
   "source": [
    "#a test data, outside of training dataset\n",
    "\n",
    "\n",
    "data_dict = {\n",
    "    'knowledge': 50,\n",
    "    'technical': 50,\n",
    "    'logical': 60,\n",
    "    'year_experience': 0\n",
    "}\n",
    "\n",
    "input_data = pd.DataFrame([data_dict])\n",
    "input_data"
   ]
  },
  {
   "cell_type": "code",
   "execution_count": null,
   "id": "ce6c7859",
   "metadata": {},
   "outputs": [],
   "source": [
    "predicted_salary = linear.predict(input_data)[0]\n",
    "# Convert decimal to integer\n",
    "predicted_salary = int(predicted_salary)\n",
    "print(\"IDR {:,.2f}\".format(predicted_salary))"
   ]
  }
 ],
 "metadata": {
  "kernelspec": {
   "display_name": "Python 3.10.6 64-bit",
   "language": "python",
   "name": "python3"
  },
  "language_info": {
   "codemirror_mode": {
    "name": "ipython",
    "version": 3
   },
   "file_extension": ".py",
   "mimetype": "text/x-python",
   "name": "python",
   "nbconvert_exporter": "python",
   "pygments_lexer": "ipython3",
   "version": "3.10.6"
  },
  "vscode": {
   "interpreter": {
    "hash": "aff3b01c940582fe8785fbf50639e6908d23e111150254af7e68b7c08084e9ea"
   }
  }
 },
 "nbformat": 4,
 "nbformat_minor": 5
}
